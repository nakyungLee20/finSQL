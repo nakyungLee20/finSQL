{
 "cells": [
  {
   "cell_type": "code",
   "execution_count": 22,
   "metadata": {},
   "outputs": [
    {
     "name": "stdout",
     "output_type": "stream",
     "text": [
      "200 200\n",
      "200\n"
     ]
    }
   ],
   "source": [
    "import json\n",
    "\n",
    "# Load data\n",
    "with open(\"/home/broodling/finQA/pre_values_0928.json\", \"r\") as f5:\n",
    "  preV = json.load(f5)\n",
    "\n",
    "with open(\"/home/broodling/finQA/table_values_0928.json\", \"r\") as f6:\n",
    "  tableV = json.load(f6)\n",
    "\n",
    "with open(\"/home/broodling/finQA/post_values_0928.json\", \"r\") as f7:\n",
    "  postV = json.load(f7)\n",
    "\n",
    "with open(\"/home/broodling/finQA/datasets/FinQA/dataset/train.json\", \"r\") as f2:\n",
    "  golds = json.load(f2)\n",
    "\n",
    "check = []\n",
    "needs = []\n",
    "for gold in golds[:200]:\n",
    "  need = gold[\"qa\"][\"gold_inds\"]\n",
    "  needs.append(need)\n",
    "  check.append(gold[\"qa\"][\"steps\"])\n",
    "\n",
    "print(len(tableV), len(needs))\n",
    "\n",
    "retri =[]\n",
    "tpre =\"\"\n",
    "ttable=\"\"\n",
    "tpost=\"\"\n",
    "for pre, table, post in zip(preV, tableV, postV):\n",
    "  for i in range(0, len(pre)):\n",
    "    tpre = tpre+pre[i]\n",
    "  for j in range(0, len(table)):\n",
    "    ttable = ttable+table[j]\n",
    "  for k in range(0, len(post)):\n",
    "    tpost = tpost+post[k]\n",
    "  total = tpre + \"\\n\" + ttable + \"\\n\" + tpost\n",
    "  retri.append(total)\n",
    "\n",
    "print(len(retri))"
   ]
  },
  {
   "cell_type": "code",
   "execution_count": 44,
   "metadata": {},
   "outputs": [],
   "source": [
    "import json\n",
    "\n",
    "# Load data\n",
    "with open(\"/home/broodling/finQA/retrieved_info_1002_200.json\", \"r\") as f:\n",
    "  extracts = json.load(f)\n",
    "\n",
    "with open(\"/home/broodling/finQA/datasets/FinQA/dataset/train.json\", \"r\") as f2:\n",
    "  golds = json.load(f2)\n",
    "\n",
    "needs = []\n",
    "for gold in golds[:200]:\n",
    "  need = gold[\"qa\"][\"gold_inds\"]\n",
    "  needs.append(need)\n",
    "\n",
    "schemas = []\n",
    "values =[]\n",
    "c=0\n",
    "for extr in extracts:\n",
    "  try:\n",
    "    sch, vals = extr.split(\"Values\")\n",
    "    sch = sch.split(\"Extracted Schema\")[1]\n",
    "  except:\n",
    "    if c==31:\n",
    "      sch = extr.split(\"```sql\")[1]\n",
    "      sch = sch.split(\"```\")[0]\n",
    "      vals = sch\n",
    "    else:\n",
    "      sch = extr\n",
    "      vals = extr\n",
    "  # sch = sch.split(\"Extracted Schema\")[1]\n",
    "  sch = sch.lstrip(\":\")\n",
    "  vals = vals.lstrip(\":\")\n",
    "  sch = sch.lstrip(\"\\n\")\n",
    "  sch = sch.rstrip(\"\\n\")\n",
    "  vals = vals.lstrip(\"\\n\")\n",
    "  vals = vals.rstrip(\"\\n\")\n",
    "  schemas.append(sch)\n",
    "  values.append(vals)\n",
    "  c += 1"
   ]
  },
  {
   "cell_type": "code",
   "execution_count": 47,
   "metadata": {},
   "outputs": [],
   "source": [
    "# preprocess for evaluate -> only number extracted\n",
    "import re\n",
    "\n",
    "def extract_numbers(text):\n",
    "    numbers = re.findall(r'\\b\\d{1,3}(?:,\\d{3})*(?:\\.\\d+)?\\b|\\b\\d+\\b(?:\\.\\d+)?', text)\n",
    "    nums = [float(num.replace(',', '')) if '.' in num else int(num.replace(',', '')) for num in numbers]\n",
    "    nums = list(set(nums))\n",
    "    \n",
    "    return nums\n",
    "\n",
    "sub_num = []\n",
    "gold_num = []\n",
    "\n",
    "for sub in values:\n",
    "    nums = extract_numbers(sub)\n",
    "    sub_num.append(nums)\n",
    "    #print(nums)\n",
    "\n",
    "for need in needs:\n",
    "    inds= list(need.values())\n",
    "    st = \"\"\n",
    "    for ind in inds:\n",
    "        st += ind+\" \"\n",
    "    nums = extract_numbers(st)\n",
    "    gold_num.append(nums)\n",
    "    #print(nums)"
   ]
  },
  {
   "cell_type": "code",
   "execution_count": 48,
   "metadata": {},
   "outputs": [
    {
     "name": "stdout",
     "output_type": "stream",
     "text": [
      "200 200 200 200\n",
      "Precision: 0.492\n",
      "Recall: 0.528\n",
      "F1 Score: 0.442\n",
      "Accuracy: 0.528\n"
     ]
    }
   ],
   "source": [
    "# precision, f1, recall\n",
    "def calculate_custom_metrics(predictions, actuals):\n",
    "    tp = len(set(actuals) & set(predictions))   # True Positives (TP)\n",
    "    fp = len(set(predictions) - set(actuals))   # False Positives (FP)\n",
    "    fn = len(set(actuals) - set(predictions))   # False Negatives (FN)\n",
    "    \n",
    "    # Precision, Recall, F1 Score, Accuracy 계산\n",
    "    precision = tp / (tp + fp) if (tp + fp) > 0 else 0\n",
    "    recall = tp / (tp + fn) if (tp + fn) > 0 else 0\n",
    "    f1 = 2 * (precision * recall) / (precision + recall) if (precision + recall) > 0 else 0\n",
    "    accuracy = tp / len(actuals) if len(actuals) > 0 else 0 # recall과 같은 결과\n",
    "    \n",
    "    return precision, recall, f1, accuracy\n",
    "\n",
    "pr=[]\n",
    "rec=[]\n",
    "f =[]\n",
    "acc = []\n",
    "\n",
    "# Calculate Metric\n",
    "for sub, gol in zip(sub_num, gold_num):\n",
    "    precision, recall, f1, accuracy = calculate_custom_metrics(sub, gol)\n",
    "    pr.append(precision)\n",
    "    rec.append(recall)\n",
    "    f.append(f1)\n",
    "    acc.append(accuracy)\n",
    "\n",
    "\n",
    "print(len(pr), len(rec), len(f), len(acc))\n",
    "print(f\"Precision: {round(sum(pr)/len(pr),3)}\")\n",
    "print(f\"Recall: {round(sum(rec)/len(rec), 3)}\")\n",
    "print(f\"F1 Score: {round(sum(f)/len(f),3)}\")\n",
    "print(f\"Accuracy: {round(sum(acc)/len(acc),3)}\")"
   ]
  },
  {
   "cell_type": "code",
   "execution_count": 4,
   "metadata": {},
   "outputs": [
    {
     "name": "stdout",
     "output_type": "stream",
     "text": [
      "6251 6251\n",
      "[2008, 2007]\n",
      "[56.8, 364.7, 2007]\n"
     ]
    }
   ],
   "source": [
    "with open(\"/home/broodling/finQA/pre_table_0817.json\", \"r\") as f3:\n",
    "  pres = json.load(f3)\n",
    "\n",
    "with open(\"/home/broodling/finQA/post_table_0817.json\", \"r\") as f4:\n",
    "  posts = json.load(f4)\n",
    "\n",
    "pre_num = []\n",
    "post_num = []\n",
    "\n",
    "for pre, post in zip(pres, posts):\n",
    "  prenum = extract_numbers(pre)\n",
    "  postnum = extract_numbers(post)\n",
    "  pre_num.append(prenum)\n",
    "  post_num.append(postnum)\n",
    "\n",
    "\n",
    "print(len(pre_num), len(post_num))\n",
    "print(pre_num[4])\n",
    "print(post_num[4])"
   ]
  },
  {
   "cell_type": "code",
   "execution_count": 5,
   "metadata": {},
   "outputs": [
    {
     "name": "stdout",
     "output_type": "stream",
     "text": [
      "6250 6250 6250 6250\n",
      "Precision: 0.314\n",
      "Recall: 0.799\n",
      "F1 Score: 0.417\n",
      "Accuracy: 0.799\n"
     ]
    }
   ],
   "source": [
    "# Calculate total metric\n",
    "gold_nums = gold_num\n",
    "pred_nums = []\n",
    "for pre, pos, sub in zip(pre_num, post_num, sub_num):\n",
    "    pred_num = list(set(pre+pos+sub))\n",
    "    pred_nums.append(pred_num)\n",
    "\n",
    "# print(len(pred_nums), len(gold_nums))\n",
    "\n",
    "prt=[]\n",
    "rect=[]\n",
    "ft =[]\n",
    "acct = []\n",
    "\n",
    "for sub, gol in zip(pred_nums[1:], gold_nums[1:]):\n",
    "    precision, recall, f1, accuracy = calculate_custom_metrics(sub, gol)\n",
    "    prt.append(precision)\n",
    "    rect.append(recall)\n",
    "    ft.append(f1)\n",
    "    acct.append(accuracy)\n",
    "\n",
    "print(len(prt), len(rect), len(ft), len(acct))\n",
    "print(f\"Precision: {round(sum(prt)/len(prt), 3)}\")\n",
    "print(f\"Recall: {round(sum(rect)/len(rect), 3)}\")\n",
    "print(f\"F1 Score: {round(sum(ft)/len(ft), 3)}\")\n",
    "print(f\"Accuracy: {round(sum(acct)/len(acct), 3)}\")"
   ]
  },
  {
   "cell_type": "code",
   "execution_count": 10,
   "metadata": {},
   "outputs": [],
   "source": [
    "import json \n",
    "\n",
    "with open(\"/home/broodling/finQA/datasets/FinQA/dataset/train.json\", \"r\") as f:\n",
    "  golds = json.load(f)\n",
    "\n",
    "answers = []\n",
    "for gold in golds:\n",
    "  ans = gold['qa']['exe_ans']\n",
    "  answers.append(ans)\n",
    "\n",
    "# with open(\"/home/broodling/finQA/final_answer_0929_200.json\", \"r\") as f2:\n",
    "#   executes = json.load(f2)\n",
    "\n",
    "with open(\"/home/broodling/finQA/final_answer_1004_tools.json\", \"r\") as f3:\n",
    "  tools = json.load(f3)"
   ]
  },
  {
   "cell_type": "code",
   "execution_count": 11,
   "metadata": {},
   "outputs": [],
   "source": [
    "executes =[]\n",
    "functions = {\"sql\":0, \"equation\":0, \"code\":0}\n",
    "\n",
    "for tool in tools:\n",
    "  answer=tool.split(\"Answer: \")[1]\n",
    "  func = tool.split(\"Function Content:\")[0]\n",
    "  executes.append(answer)\n",
    "  if 'execute_sqlite3' in func:\n",
    "    functions['sql'] += 1\n",
    "  elif 'equation_' in func:\n",
    "    functions['equation'] += 1\n",
    "  else:\n",
    "    functions[\"code\"] += 1"
   ]
  },
  {
   "cell_type": "code",
   "execution_count": 19,
   "metadata": {},
   "outputs": [
    {
     "name": "stdout",
     "output_type": "stream",
     "text": [
      "6.5\n"
     ]
    }
   ],
   "source": [
    "# 0929 200개 test => 0.01% 정답률\n",
    "correct = 0\n",
    "for gold, exe in zip(answers, executes):\n",
    "  try:\n",
    "    ans = round(float(gold),4)\n",
    "  except:\n",
    "    ans = gold\n",
    "\n",
    "  try:\n",
    "    pred = round(float(exe),4)\n",
    "  except:\n",
    "    if (\"No\" in exe) or (\"no\" in exe) or (\"Yes\" in exe) or (\"yes\" in exe):\n",
    "      pred = exe\n",
    "    else:\n",
    "      pred = 0\n",
    "\n",
    "  # check answer\n",
    "  # print(ans, pred)\n",
    "  if ans==pred:\n",
    "    correct += 1\n",
    "  elif (type(pred)==float) and (pred*100==gold):\n",
    "    correct += 1\n",
    "  elif (type(pred)==float) and (gold*100==pred):\n",
    "    correct += 1\n",
    "\n",
    "print(correct/200*100) # 2 -> 13(6.5%)"
   ]
  },
  {
   "cell_type": "code",
   "execution_count": null,
   "metadata": {},
   "outputs": [],
   "source": []
  }
 ],
 "metadata": {
  "kernelspec": {
   "display_name": "venv",
   "language": "python",
   "name": "python3"
  },
  "language_info": {
   "codemirror_mode": {
    "name": "ipython",
    "version": 3
   },
   "file_extension": ".py",
   "mimetype": "text/x-python",
   "name": "python",
   "nbconvert_exporter": "python",
   "pygments_lexer": "ipython3",
   "version": "3.11.10"
  }
 },
 "nbformat": 4,
 "nbformat_minor": 2
}
