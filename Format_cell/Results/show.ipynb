{
 "cells": [
  {
   "cell_type": "code",
   "execution_count": 13,
   "metadata": {},
   "outputs": [
    {
     "name": "stdout",
     "output_type": "stream",
     "text": [
      "6251\n",
      "6251\n"
     ]
    }
   ],
   "source": [
    "import json\n",
    "\n",
    "with open(\"/home/broodling/finQA/Results/text2SQL_0823.json\", \"r\") as file:\n",
    "  datas = json.load(file)\n",
    "\n",
    "with open(\"/home/broodling/finQA/datasets/FinQA/dataset/train.json\", \"r\") as q:\n",
    "  ques = json.load(q)\n",
    "\n",
    "print(len(datas))\n",
    "print(len(ques))"
   ]
  },
  {
   "cell_type": "code",
   "execution_count": null,
   "metadata": {},
   "outputs": [],
   "source": [
    "filt = []\n",
    "for data in datas:\n",
    "  data = data.replace(\"SQLQuery:\", \"\")\n",
    "  data = data.lstrip(\" \")\n",
    "  data = data.lstrip(\"\\n\")\n",
    "  print(data)\n",
    "  print()\n",
    "  filt.append(data)\n",
    "\n",
    "import pandas as pd\n",
    "df = pd.DataFrame(filt)\n",
    "df.to_csv('errorCase.csv')\n"
   ]
  },
  {
   "cell_type": "code",
   "execution_count": 30,
   "metadata": {},
   "outputs": [],
   "source": [
    "# error analysis\n",
    "import json\n",
    "\n",
    "with open(\"/home/broodling/finQA/post_table_0927_200.json\", \"r\") as f1:\n",
    "  posts = json.load(f1)\n",
    "\n",
    "with open(\"/home/broodling/finQA/pre_table_0927_200.json\", \"r\") as f2:\n",
    "  pres = json.load(f2)"
   ]
  },
  {
   "cell_type": "code",
   "execution_count": 21,
   "metadata": {},
   "outputs": [
    {
     "name": "stdout",
     "output_type": "stream",
     "text": [
      "200 200\n"
     ]
    }
   ],
   "source": [
    "schemas = []\n",
    "values = []\n",
    "\n",
    "for post in posts:\n",
    "  post = post.replace(\"TableD\", \"PostD\")\n",
    "  schema, value = post.split(\"Values:\")\n",
    "  schema = schema.lstrip(\"Schema:\")\n",
    "  schema = schema.rstrip(\"\\n\")\n",
    "  schemas.append(schema)\n",
    "  value = value.lstrip(\"\\n\")\n",
    "  value = value.rstrip(\"\\n\")\n",
    "  nums = value.split(\";\")\n",
    "  val = []\n",
    "  for num in nums[:-1]:\n",
    "    v = num+\";\"\n",
    "    val.append(v)\n",
    "  #print(schema)\n",
    "  values.append(val)\n",
    "\n",
    "print(len(schemas), len(values))\n",
    "\n",
    "with open(\"post_schemas_0928.json\", \"w\") as f3:\n",
    "  json.dump(schemas, f3)\n",
    "\n",
    "with open(\"post_values_0928.json\", \"w\") as f4:\n",
    "  json.dump(values, f4)\n"
   ]
  },
  {
   "cell_type": "code",
   "execution_count": 40,
   "metadata": {},
   "outputs": [
    {
     "name": "stdout",
     "output_type": "stream",
     "text": [
      "Schema:\n",
      "CREATE TABLE TableD (\n",
      "    year INT,\n",
      "    date DATE,\n",
      "    asset_type VARCHAR(50),\n",
      "    asset_category VARCHAR(50),\n",
      "    liability_type VARCHAR(50),\n",
      "    liability_category VARCHAR(50),\n",
      "    debt_type VARCHAR(50),\n",
      "    debt_classification VARCHAR(10),\n",
      "    agreement_type VARCHAR(50),\n",
      "    agreement_date DATE,\n",
      "    payment_term INT,\n",
      "    fair_value_method VARCHAR(50),\n",
      "    discount_rate DECIMAL(10, 2)\n",
      ");\n",
      "\n",
      "Values:\n",
      "INSERT INTO TableD (\n",
      "    year, date, asset_type, asset_category, liability_type, liability_category, debt_type, debt_classification\n",
      ") VALUES (\n",
      "    2013, '2013-12-28', 'Grants Receivable', 'Other Current Assets', NULL, NULL, NULL, NULL\n",
      ");\n",
      "INSERT INTO TableD (\n",
      "    year, date, asset_type, asset_category, liability_type, liability_category, debt_type, debt_classification\n",
      ") VALUES (\n",
      "    2012, '2012-12-29', 'Grants Receivable', 'Other Long-term Assets', NULL, NULL, NULL, NULL\n",
      ");\n",
      "INSERT INTO TableD (\n",
      "    year, date, NULL, NULL, 'Long-term Debt', 'Other Long-term Liabilities', 'Senior Notes', 'Level 1'\n",
      ") VALUES (\n",
      "    NULL, NULL, NULL, NULL, NULL, NULL, NULL, NULL\n",
      ");\n",
      "INSERT INTO TableD (\n",
      "    year, date, NULL, NULL, 'Long-term Debt', 'Other Long-term Liabilities', 'Convertible Debentures', 'Level 2'\n",
      ") VALUES (\n",
      "    NULL, NULL, NULL, NULL, NULL, NULL, NULL, NULL\n",
      ");\n",
      "INSERT INTO TableD (\n",
      "    year, date, NULL, NULL, 'Liability', 'Other Accrued Liabilities', NULL, NULL\n",
      ") VALUES (\n",
      "    NULL, NULL, NULL, NULL, NULL, NULL, NULL, NULL\n",
      ");\n",
      "INSERT INTO TableD (\n",
      "    year, date, NULL, NULL, 'Liability', 'Other Long-term Liabilities', NULL, NULL\n",
      ") VALUES (\n",
      "    NULL, NULL, NULL, NULL, NULL, NULL, NULL, NULL\n",
      ");\n",
      "INSERT INTO TableD (\n",
      "    year, date, NULL, NULL, NULL, NULL, 'Cross-License Agreement', NULL\n",
      ") VALUES (\n",
      "    NULL, '2011-01-01', NULL, NULL, NULL, NULL, NULL, NULL\n",
      ");\n",
      "INSERT INTO TableD (\n",
      "    year, date, NULL, NULL, NULL, NULL, NULL, NULL\n",
      ") VALUES (\n",
      "    NULL, '2013-12-28', NULL, NULL, NULL, NULL, NULL, NULL\n",
      ");\n",
      "INSERT INTO TableD (\n",
      "    year, date, NULL, NULL, NULL, NULL, NULL, NULL\n",
      ") VALUES (\n",
      "    NULL, '2012-12-29', NULL, NULL, NULL, NULL, NULL, NULL\n",
      ");\n",
      "INSERT INTO TableD (\n",
      "    year, date, NULL, NULL, NULL, NULL, NULL, NULL\n",
      ") VALUES (\n",
      "    NULL, NULL, NULL, NULL, NULL, NULL, NULL, NULL\n",
      ");\n"
     ]
    }
   ],
   "source": [
    "print(pres[3])"
   ]
  },
  {
   "cell_type": "code",
   "execution_count": 50,
   "metadata": {},
   "outputs": [
    {
     "name": "stdout",
     "output_type": "stream",
     "text": [
      "200 200\n"
     ]
    }
   ],
   "source": [
    "schemas = []\n",
    "values = []\n",
    "\n",
    "\n",
    "for pre in pres:\n",
    "  pre = pre.replace(\"TableD\", \"PreD\")\n",
    "  ln = pre.split(\"Values:\")\n",
    "  if(len(ln)==2):\n",
    "    schema = ln[0]\n",
    "    value = ln[1]\n",
    "  else:\n",
    "    schema, value = pre.split(\"Values:\")[:2]\n",
    "  schema = schema.lstrip(\"Schema:\")\n",
    "  schema = schema.rstrip(\"\\n\")\n",
    "  schemas.append(schema)\n",
    "  value = value.lstrip(\"\\n\")\n",
    "  value = value.rstrip(\"\\n\")\n",
    "  nums = value.split(\";\")\n",
    "  val = []\n",
    "  for num in nums[:-1]:\n",
    "    v = num+\";\"\n",
    "    val.append(v)\n",
    "  # print(schema)\n",
    "  values.append(val)\n",
    "\n",
    "print(len(schemas), len(values))\n",
    "\n",
    "with open(\"pre_schemas_0928.json\", \"w\") as f5:\n",
    "  json.dump(schemas, f5)\n",
    "\n",
    "with open(\"pre_values_0928.json\", \"w\") as f6:\n",
    "  json.dump(values, f6)\n"
   ]
  },
  {
   "cell_type": "code",
   "execution_count": 1,
   "metadata": {},
   "outputs": [],
   "source": [
    "import json\n",
    "with open(\"/home/broodling/finQA/table_extract_0928_200.json\", \"r\") as f2:\n",
    "  tables = json.load(f2)"
   ]
  },
  {
   "cell_type": "code",
   "execution_count": 12,
   "metadata": {},
   "outputs": [
    {
     "name": "stdout",
     "output_type": "stream",
     "text": [
      "200 200\n"
     ]
    }
   ],
   "source": [
    "schemas = []\n",
    "values = []\n",
    "c = 0\n",
    "for table in tables:\n",
    "  schema, val= table.split(\"Values:\")\n",
    "  schema = schema.lstrip(\"Schema:\")\n",
    "  schema = schema.rstrip(\"\\n\")\n",
    "  schemas.append(schema)\n",
    "  # print(schema)\n",
    "  val = val.lstrip(\"\\n\")\n",
    "  nums = val.split(\";\")\n",
    "  if len(nums)>2:\n",
    "    nums = nums[:2]\n",
    "  vals = []\n",
    "  for num in nums[:-1]:\n",
    "    v = num+\";\"\n",
    "    vals.append(v)\n",
    "    # print(v)\n",
    "  values.append(vals)\n",
    "\n",
    "\n",
    "print(len(schemas), len(values))\n",
    "\n",
    "with open(\"table_schemas_0928.json\", \"w\") as f7:\n",
    "  json.dump(schemas, f7)\n",
    "\n",
    "with open(\"table_values_0928.json\", \"w\") as f8:\n",
    "  json.dump(values, f8)\n"
   ]
  }
 ],
 "metadata": {
  "kernelspec": {
   "display_name": "venv",
   "language": "python",
   "name": "python3"
  },
  "language_info": {
   "codemirror_mode": {
    "name": "ipython",
    "version": 3
   },
   "file_extension": ".py",
   "mimetype": "text/x-python",
   "name": "python",
   "nbconvert_exporter": "python",
   "pygments_lexer": "ipython3",
   "version": "3.11.10"
  }
 },
 "nbformat": 4,
 "nbformat_minor": 2
}
